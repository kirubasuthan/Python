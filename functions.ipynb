{
 "cells": [
  {
   "cell_type": "code",
   "execution_count": 33,
   "id": "6cc22e1a-54d1-42a8-9166-b9fd100f3e11",
   "metadata": {},
   "outputs": [],
   "source": [
    "# Variable Arguments\n",
    "# Arbitary number of arguments\n",
    "# Refer https://docs.python.org/3/tutorial/controlflow.html#more-on-defining-functions\n",
    "# https://stackoverflow.com/questions/36901/what-does-double-star-asterisk-and-star-asterisk-do-for-parameters\n",
    "\n",
    "########################################################\n",
    "# def f(pos1, pos2, /, pos_or_kwd, *, kwd1, kwd2):\n",
    "#      -----------    ----------     ----------\n",
    "#        |             |                  |\n",
    "#        |        Positional or keyword   |\n",
    "#        |                                - Keyword only\n",
    "#         -- Positional only\n",
    "########################################################"
   ]
  },
  {
   "cell_type": "code",
   "execution_count": 14,
   "id": "aed0c38a-144f-48ea-8917-9c9419d1a610",
   "metadata": {},
   "outputs": [
    {
     "name": "stdout",
     "output_type": "stream",
     "text": [
      "6\n"
     ]
    }
   ],
   "source": [
    "# Variable List Argument\n",
    "# Arbitary number of arguments as tuples\n",
    "# Positional Arguments as tuple\n",
    "def sum(*nums):\n",
    "    sum = 0\n",
    "    for n in nums:\n",
    "        sum += n\n",
    "    return sum\n",
    "\n",
    "# Variable list of numbers are passed as argument, the * idiom will convert this to tuple and pass it to the function\n",
    "print (sum(1,2,3))\n"
   ]
  },
  {
   "cell_type": "code",
   "execution_count": 16,
   "id": "7c704206-7aee-4fe5-8899-d501c5312079",
   "metadata": {},
   "outputs": [
    {
     "name": "stdout",
     "output_type": "stream",
     "text": [
      "6\n"
     ]
    }
   ],
   "source": [
    "nums = [1,2,3]\n",
    "# Here we can't pass the list directly as the function expects a variable list. So need to pass the list as integers using '*'\n",
    "print (sum(*nums))"
   ]
  },
  {
   "cell_type": "code",
   "execution_count": 12,
   "id": "b5ea65e0-665c-4469-b986-3549a19eaafc",
   "metadata": {},
   "outputs": [
    {
     "name": "stdout",
     "output_type": "stream",
     "text": [
      "9\n"
     ]
    }
   ],
   "source": [
    "def sum(n1, n2, n3):\n",
    "    return (n1+n2+n3)\n",
    "    \n",
    "nums = [1,3,5]\n",
    "print (sum(*nums))\n"
   ]
  },
  {
   "cell_type": "code",
   "execution_count": 19,
   "id": "77d5733c-289b-41f0-b9ed-40a73303a37c",
   "metadata": {},
   "outputs": [
    {
     "name": "stdout",
     "output_type": "stream",
     "text": [
      "[1, 2, 3]\n",
      "1 2 3\n"
     ]
    }
   ],
   "source": [
    "l = [1,2,3]\n",
    "# This Prints the list\n",
    "print (l)\n",
    "# This prints the list as integers \n",
    "print (*l)"
   ]
  },
  {
   "cell_type": "code",
   "execution_count": 32,
   "id": "84f8a23a-5173-4735-83ec-6c1f92e877ec",
   "metadata": {},
   "outputs": [
    {
     "name": "stdout",
     "output_type": "stream",
     "text": [
      "name is KS.\n",
      "age is 20.\n"
     ]
    }
   ],
   "source": [
    "# Positional Arguments as dictionary\n",
    "def genString(**args):\n",
    "    s = str()\n",
    "    for k, v, in args.items():\n",
    "        print (f'{k} is {v}.')\n",
    "\n",
    "genString(name='KS', age=20)\n",
    "            "
   ]
  },
  {
   "cell_type": "code",
   "execution_count": 36,
   "id": "1668c4ae-d7f6-4fa6-b8ca-d567be323dbf",
   "metadata": {},
   "outputs": [
    {
     "name": "stdout",
     "output_type": "stream",
     "text": [
      "Tom is of age 20 and lives at address \"#23 First main, GLR\"\n"
     ]
    }
   ],
   "source": [
    "# Passing Dictionary as keyword arguments\n",
    "def genString(name, age, address):\n",
    "    s = str()\n",
    "    print (f'{name} is of age {age} and lives at address \"{address}\"')\n",
    "\n",
    "person = {'name': 'Tom', 'age': 20, 'address': '#23 First main, GLR'}\n",
    "\n",
    "genString(**person)"
   ]
  },
  {
   "cell_type": "code",
   "execution_count": 42,
   "id": "067ca5ab-4273-4f63-a25c-db950bd46a1e",
   "metadata": {},
   "outputs": [
    {
     "data": {
      "text/plain": [
       "'Employee Id is 10. Got the rating of 5 star. name is Tim. age is 100. address is 24 Brownling st, LF-100. '"
      ]
     },
     "execution_count": 42,
     "metadata": {},
     "output_type": "execute_result"
    }
   ],
   "source": [
    "# Mixing this idiom to allow few fixed and variable arguments\n",
    "def describeEmployee(emp_id, rating, department=None, **detail):\n",
    "    s = str()\n",
    "    s += f'Employee Id is {emp_id}. Got the rating of {rating} star. '\n",
    "    if department:\n",
    "        s += 'Belongs to department {department}. '\n",
    "    if detail:\n",
    "        for k, v in detail.items():\n",
    "            s += f'{k} is {v}. '\n",
    "    return s\n",
    "\n",
    "describeEmployee(10, 5, name = 'Tim', age = 100, address = '24 Brownling st, LF-100')\n"
   ]
  },
  {
   "cell_type": "code",
   "execution_count": null,
   "id": "892c408e-673a-4a74-b2fe-1309818291f8",
   "metadata": {},
   "outputs": [],
   "source": []
  }
 ],
 "metadata": {
  "kernelspec": {
   "display_name": "Python 3 (ipykernel)",
   "language": "python",
   "name": "python3"
  },
  "language_info": {
   "codemirror_mode": {
    "name": "ipython",
    "version": 3
   },
   "file_extension": ".py",
   "mimetype": "text/x-python",
   "name": "python",
   "nbconvert_exporter": "python",
   "pygments_lexer": "ipython3",
   "version": "3.12.1"
  }
 },
 "nbformat": 4,
 "nbformat_minor": 5
}
