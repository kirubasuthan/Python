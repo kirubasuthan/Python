{
 "cells": [
  {
   "cell_type": "code",
   "execution_count": 14,
   "id": "3ab06679-f271-44dd-85f0-5fb41f5939d4",
   "metadata": {},
   "outputs": [
    {
     "ename": "AssertionError",
     "evalue": "Unrecognized configs: {'enable.ssl.certificate.verification': False}",
     "output_type": "error",
     "traceback": [
      "\u001b[1;31m---------------------------------------------------------------------------\u001b[0m",
      "\u001b[1;31mAssertionError\u001b[0m                            Traceback (most recent call last)",
      "Cell \u001b[1;32mIn[14], line 20\u001b[0m\n\u001b[0;32m     12\u001b[0m \u001b[38;5;28;01mfrom\u001b[39;00m \u001b[38;5;21;01mkafka\u001b[39;00m \u001b[38;5;28;01mimport\u001b[39;00m KafkaConsumer\n\u001b[0;32m     14\u001b[0m producer_config \u001b[38;5;241m=\u001b[39m {\n\u001b[0;32m     15\u001b[0m     \u001b[38;5;124m'\u001b[39m\u001b[38;5;124mbootstrap_servers\u001b[39m\u001b[38;5;124m'\u001b[39m: \u001b[38;5;124m'\u001b[39m\u001b[38;5;124mlocalhost:9092\u001b[39m\u001b[38;5;124m'\u001b[39m,\n\u001b[0;32m     16\u001b[0m     \u001b[38;5;124m'\u001b[39m\u001b[38;5;124mapi_version\u001b[39m\u001b[38;5;124m'\u001b[39m: (\u001b[38;5;241m2\u001b[39m, \u001b[38;5;241m4\u001b[39m, \u001b[38;5;241m1\u001b[39m),\n\u001b[0;32m     17\u001b[0m     \u001b[38;5;66;03m#'security_protocol': \"SSL\"\u001b[39;00m\n\u001b[0;32m     18\u001b[0m     \u001b[38;5;124m'\u001b[39m\u001b[38;5;124menable.ssl.certificate.verification\u001b[39m\u001b[38;5;124m'\u001b[39m: \u001b[38;5;28;01mFalse\u001b[39;00m\n\u001b[0;32m     19\u001b[0m }\n\u001b[1;32m---> 20\u001b[0m producer \u001b[38;5;241m=\u001b[39m \u001b[43mKafkaProducer\u001b[49m\u001b[43m(\u001b[49m\u001b[38;5;241;43m*\u001b[39;49m\u001b[38;5;241;43m*\u001b[39;49m\u001b[43mproducer_config\u001b[49m\u001b[43m)\u001b[49m\n\u001b[0;32m     22\u001b[0m context \u001b[38;5;241m=\u001b[39m ssl\u001b[38;5;241m.\u001b[39mcreate_default_context()\n\u001b[0;32m     23\u001b[0m context\u001b[38;5;241m.\u001b[39moptions \u001b[38;5;241m=\u001b[39m ssl\u001b[38;5;241m.\u001b[39mOP_NO_TLSv1\n",
      "File \u001b[1;32m~\\AppData\\Local\\Programs\\Python\\Python312\\Lib\\site-packages\\kafka\\producer\\kafka.py:354\u001b[0m, in \u001b[0;36mKafkaProducer.__init__\u001b[1;34m(self, **configs)\u001b[0m\n\u001b[0;32m    351\u001b[0m         \u001b[38;5;28mself\u001b[39m\u001b[38;5;241m.\u001b[39mconfig[key] \u001b[38;5;241m=\u001b[39m configs\u001b[38;5;241m.\u001b[39mpop(key)\n\u001b[0;32m    353\u001b[0m \u001b[38;5;66;03m# Only check for extra config keys in top-level class\u001b[39;00m\n\u001b[1;32m--> 354\u001b[0m \u001b[38;5;28;01massert\u001b[39;00m \u001b[38;5;129;01mnot\u001b[39;00m configs, \u001b[38;5;124m'\u001b[39m\u001b[38;5;124mUnrecognized configs: \u001b[39m\u001b[38;5;132;01m%s\u001b[39;00m\u001b[38;5;124m'\u001b[39m \u001b[38;5;241m%\u001b[39m (configs,)\n\u001b[0;32m    356\u001b[0m \u001b[38;5;28;01mif\u001b[39;00m \u001b[38;5;28mself\u001b[39m\u001b[38;5;241m.\u001b[39mconfig[\u001b[38;5;124m'\u001b[39m\u001b[38;5;124mclient_id\u001b[39m\u001b[38;5;124m'\u001b[39m] \u001b[38;5;129;01mis\u001b[39;00m \u001b[38;5;28;01mNone\u001b[39;00m:\n\u001b[0;32m    357\u001b[0m     \u001b[38;5;28mself\u001b[39m\u001b[38;5;241m.\u001b[39mconfig[\u001b[38;5;124m'\u001b[39m\u001b[38;5;124mclient_id\u001b[39m\u001b[38;5;124m'\u001b[39m] \u001b[38;5;241m=\u001b[39m \u001b[38;5;124m'\u001b[39m\u001b[38;5;124mkafka-python-producer-\u001b[39m\u001b[38;5;132;01m%s\u001b[39;00m\u001b[38;5;124m'\u001b[39m \u001b[38;5;241m%\u001b[39m \\\n\u001b[0;32m    358\u001b[0m                                (PRODUCER_CLIENT_ID_SEQUENCE\u001b[38;5;241m.\u001b[39mincrement(),)\n",
      "\u001b[1;31mAssertionError\u001b[0m: Unrecognized configs: {'enable.ssl.certificate.verification': False}"
     ]
    }
   ],
   "source": [
    "# pip install kafka-python-ng\n",
    "\n",
    "# Workaround for Kafka issue\n",
    "import six\n",
    "import sys\n",
    "import time \n",
    "if sys.version_info >= (3, 12, 0):\n",
    "    sys.modules['kafka.vendor.six.moves'] = six.moves\n",
    "\n",
    "from kafka import KafkaProducer\n",
    "from kafka.errors import KafkaError\n",
    "from kafka import KafkaConsumer\n",
    "\n",
    "producer_config = {\n",
    "    'bootstrap_servers': 'localhost:9092',\n",
    "    'api_version': (2, 4, 1),\n",
    "    #'security_protocol': \"SSL\"\n",
    "    'enable.ssl.certificate.verification': False\n",
    "}\n",
    "producer = KafkaProducer(**producer_config)\n",
    "\n",
    "context = ssl.create_default_context()\n",
    "context.options = ssl.OP_NO_TLSv1\n",
    "context.options = ssl.OP_NO_TLSv1_1\n",
    "context.load_verify_locations(cafile='/secure/cacerts')\n",
    "context.check_hostname = False\n",
    "#KafkaProducer(bootstrap_servers='localhost:9092', enable.ssl.certificate.verification= False) #security_protocol='SASL_SSL', ssl_context=context)\n",
    "\n",
    "\n",
    "for i in range(1, 101):\n",
    "    print (f' Sendind {i}')\n",
    "    producer_client = producer.send('partition-1', str(i))\n",
    "    result = producer_client.get(timout=10)\n",
    "    print (f\"Result for {i} is {result}\")\n",
    "    time.sleep(1)\n",
    "    \n"
   ]
  },
  {
   "cell_type": "code",
   "execution_count": 3,
   "id": "33a4047e-e7d3-48ec-9e0d-982bc3754872",
   "metadata": {},
   "outputs": [
    {
     "name": "stdout",
     "output_type": "stream",
     "text": [
      "encoding without a string argument\n",
      "encoding without a string argument\n",
      "encoding without a string argument\n"
     ]
    }
   ],
   "source": [
    "import json\n",
    "\n",
    "from kafka import KafkaProducer\n",
    "\n",
    "\n",
    "def publish_message(kafka_producer, topic_name, key, value):\n",
    "    try:\n",
    "        key_bytes = bytes(key, encoding='utf-8')\n",
    "        value_bytes = bytes(value, encoding='utf-8')\n",
    "        kafka_producer.send(topic_name, key=key_bytes, value=value_bytes)\n",
    "        kafka_producer.flush()\n",
    "        print('Message published successfully.')\n",
    "    except Exception as ex:\n",
    "        print(str(ex))\n",
    "\n",
    "\n",
    "if __name__ == '__main__':\n",
    "    kafka_producer = KafkaProducer(bootstrap_servers=['localhost:9092'], api_version=(0, 10))\n",
    "    employees = [\n",
    "        {\n",
    "            \"name\": \"John Smith\",\n",
    "            \"id\": 1\n",
    "        }, {\n",
    "            \"name\": \"Susan Doe\",\n",
    "            \"id\": 2\n",
    "        }, {\n",
    "            \"name\": \"Karen Rock\",\n",
    "            \"id\": 3\n",
    "        },\n",
    "    ]\n",
    "    for employee in employees:\n",
    "        publish_message(\n",
    "            kafka_producer=kafka_producer,\n",
    "            topic_name='employees',\n",
    "            key=employee['id'],\n",
    "            value=json.dumps(employee)\n",
    "        )\n",
    "    if kafka_producer is not None:\n",
    "        kafka_producer.close()\n"
   ]
  },
  {
   "cell_type": "code",
   "execution_count": null,
   "id": "b26b9860-245a-4f08-b1ef-48f9d9f49abb",
   "metadata": {},
   "outputs": [],
   "source": []
  }
 ],
 "metadata": {
  "kernelspec": {
   "display_name": "Python 3 (ipykernel)",
   "language": "python",
   "name": "python3"
  },
  "language_info": {
   "codemirror_mode": {
    "name": "ipython",
    "version": 3
   },
   "file_extension": ".py",
   "mimetype": "text/x-python",
   "name": "python",
   "nbconvert_exporter": "python",
   "pygments_lexer": "ipython3",
   "version": "3.12.1"
  }
 },
 "nbformat": 4,
 "nbformat_minor": 5
}
