{
 "cells": [
  {
   "cell_type": "code",
   "execution_count": 24,
   "id": "b52975e3-02d9-4cfa-8c85-243fa42eb1f7",
   "metadata": {},
   "outputs": [
    {
     "name": "stdout",
     "output_type": "stream",
     "text": [
      "Printing 1 to 10...\n",
      "1\n",
      "2\n",
      "3\n",
      "4\n",
      "5\n",
      "6\n",
      "7\n",
      "8\n",
      "9\n",
      " Run Time of 'print1to10' function is 9.00328254699707\n",
      "Printing even numbers from 0 to 10\n",
      "0\n",
      "2\n",
      "4\n",
      "6\n",
      "8\n",
      "10\n",
      " Run Time of 'printEven' function is 6.003045082092285\n"
     ]
    }
   ],
   "source": [
    "import time\n",
    "\n",
    "def timeIt(func):\n",
    "    def wrapper():\n",
    "        startT = time.time()\n",
    "        func()\n",
    "        t = time.time() - startT\n",
    "        print (f\" Run Time of '{func.__name__}' function is {t}\")\n",
    "    return wrapper\n",
    "\n",
    "def printNums(start, end, increment=1, delay=1):\n",
    "    for i in range(start, end, increment):\n",
    "        print (i)\n",
    "        time.sleep (1)\n",
    "\n",
    "@timeIt\n",
    "def print1to10():\n",
    "    print(\"Printing 1 to 10...\")\n",
    "    printNums(1, 10)\n",
    "\n",
    "@timeIt\n",
    "def printEven():\n",
    "    print(\"Printing even numbers from 0 to 10\")\n",
    "    printNums(0, 11, 2)\n",
    "\n",
    "print1to10()\n",
    "printEven()\n"
   ]
  },
  {
   "cell_type": "code",
   "execution_count": null,
   "id": "2c175c47-319c-478c-aeb3-ba30a32b938a",
   "metadata": {},
   "outputs": [],
   "source": []
  },
  {
   "cell_type": "code",
   "execution_count": null,
   "id": "c29cd52f-4ce8-4c60-9094-6c0fda810523",
   "metadata": {},
   "outputs": [],
   "source": []
  }
 ],
 "metadata": {
  "kernelspec": {
   "display_name": "Python 3 (ipykernel)",
   "language": "python",
   "name": "python3"
  },
  "language_info": {
   "codemirror_mode": {
    "name": "ipython",
    "version": 3
   },
   "file_extension": ".py",
   "mimetype": "text/x-python",
   "name": "python",
   "nbconvert_exporter": "python",
   "pygments_lexer": "ipython3",
   "version": "3.12.1"
  }
 },
 "nbformat": 4,
 "nbformat_minor": 5
}
